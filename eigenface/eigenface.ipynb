{
 "cells": [
  {
   "cell_type": "code",
   "execution_count": 1,
   "metadata": {
    "slideshow": {
     "slide_type": "skip"
    }
   },
   "outputs": [],
   "source": [
    "import numpy as np\n",
    "import matplotlib.pyplot as plt\n",
    "%matplotlib inline"
   ]
  },
  {
   "cell_type": "markdown",
   "metadata": {
    "slideshow": {
     "slide_type": "slide"
    }
   },
   "source": [
    "## Physical Mean of Matrix Transformation\n",
    "\n",
    "Given $\\vec{x}$ and $A$\n",
    "$$\n",
    "\\vec{x} =\n",
    "\\begin{pmatrix}\n",
    "1 \\\\ \n",
    "3\n",
    "\\end{pmatrix}\n",
    ", \\\n",
    "A = \n",
    "\\begin{pmatrix}\n",
    "2 & 1\\\\ \n",
    "-1 & 1\n",
    "\\end{pmatrix}\n",
    "$$\n",
    "\n",
    "Apply $A$ on $\\vec{x}$\n",
    "$$\n",
    "\\vec{y} = A\\vec{x} =\n",
    "\\begin{bmatrix}\n",
    "2 & 1 \\\\ \n",
    "-1 & 1\n",
    "\\end{bmatrix}\n",
    "\\begin{bmatrix}\n",
    "1 \\\\ \n",
    "3\n",
    "\\end{bmatrix}\n",
    "=\n",
    "1\n",
    "\\begin{bmatrix}\n",
    "2\\\\\n",
    "-1\n",
    "\\end{bmatrix}\n",
    "+ \n",
    "3\n",
    "\\begin{bmatrix}\n",
    "1\\\\\n",
    "1\n",
    "\\end{bmatrix}\n",
    "=\n",
    "\\begin{bmatrix}\n",
    "5\\\\ \n",
    "2\n",
    "\\end{bmatrix}\n",
    "$$\n",
    "\n",
    "is equal to change the basis vectors of $\\vec{x}$ from $\\left( \\begin{bmatrix}1\\\\ 0\\end{bmatrix} \\begin{bmatrix}0\\\\1\\end{bmatrix}\\right)$ to $\\left( \\begin{bmatrix}2\\\\ -1\\end{bmatrix} \\begin{bmatrix}1\\\\1\\end{bmatrix}\\right)$"
   ]
  },
  {
   "cell_type": "code",
   "execution_count": 2,
   "metadata": {
    "slideshow": {
     "slide_type": "subslide"
    }
   },
   "outputs": [],
   "source": [
    "# Transformation Matrix\n",
    "A = np.array([[2, 1],\n",
    "              [-1, 1]])\n",
    "\n",
    "# Original vector\n",
    "x = np.array([1, 3])\n",
    "\n",
    "# Transformed vector\n",
    "y = A.dot(x)"
   ]
  },
  {
   "cell_type": "code",
   "execution_count": 3,
   "metadata": {
    "slideshow": {
     "slide_type": "subslide"
    }
   },
   "outputs": [
    {
     "data": {
      "image/png": "[encoded data removed]",
      "text/plain": [
       "<Figure size 432x288 with 1 Axes>"
      ]
     },
     "metadata": {
      "needs_background": "light"
     },
     "output_type": "display_data"
    }
   ],
   "source": [
    "# Construct lines of vectors\n",
    "origin = np.array([0, 0])\n",
    "orig_points = np.stack([origin, x])\n",
    "trans_points = np.stack([origin, y])\n",
    "\n",
    "# Plot lines\n",
    "plt.plot(orig_points[:, 0], orig_points[:, 1], label=\"original\")\n",
    "plt.plot(trans_points[:, 0], trans_points[:, 1], label=\"transformed\")\n",
    "\n",
    "plt.xlim((-7, 7))\n",
    "plt.ylim((-7, 7))\n",
    "plt.grid()\n",
    "plt.legend();"
   ]
  },
  {
   "cell_type": "markdown",
   "metadata": {
    "slideshow": {
     "slide_type": "subslide"
    }
   },
   "source": [
    "## Physical Mean of Matrix Transformation (Cont')\n",
    "\n",
    "- Numerical view: **Change the coordinate system**\n",
    "- Graphical view: **Rotation** and **Stretching**"
   ]
  },
  {
   "cell_type": "markdown",
   "metadata": {
    "slideshow": {
     "slide_type": "slide"
    }
   },
   "source": [
    "## Matrix Transformation on Circle\n",
    "\n",
    "Adopt the graphical view of matrix transformation\n",
    "![](images/svd/circle-transform.png)\n",
    "\n",
    "In general view, before applying the transformation matrix, the basis vectors in original space (n-dim):\n",
    "\n",
    "$$\n",
    "    \\mathbf{V_{org}} = \\begin{bmatrix}\\vec{v_1} & \\vec{v_2} & ... & \\vec{v_n}\\end{bmatrix}, \\text{where $\\mathbf{V_{org}}$ is a orthonormal set}\n",
    "$$\n",
    "\n",
    "After applying the transformation matrix, the transformed basis vectors now become:\n",
    "\n",
    "$$\n",
    "    \\mathbf{V_{trans}} = \\begin{bmatrix}\\sigma_1\\vec{u_1} & \\sigma_2\\vec{u_2} & ... & \\sigma_3\\vec{u_n}\\end{bmatrix}, \\text{where $u_i$ is unit vector, and $\\sigma_i$ is the stretching amount}\n",
    "$$"
   ]
  },
  {
   "cell_type": "markdown",
   "metadata": {
    "slideshow": {
     "slide_type": "subslide"
    }
   },
   "source": [
    "## Matrix Transformation on Circle (Cont')\n",
    "\n",
    "Here we can say that\n",
    "\n",
    "$$\n",
    "    A\\vec{v_j} = \\sigma_j \\vec{u_j},\\ \\text{where j=1,...,n}\n",
    "$$\n",
    "\n",
    "In vector form\n",
    "\n",
    "$$\n",
    "    AV = U\\Sigma\n",
    "$$\n",
    "\n",
    "$\\Sigma$ matrix is a diagonal matrix with stretching values on the diagonal axis. And $U$ matrix consists of the transformed basis vectors, which represents the new coordinate system. \n",
    "\n",
    "**As we saw before, every matrix $A$ can be represented by two actions in graphical view, which are \"ROTATION\" and \"Stretching\"**. The roles of $U$, $\\Sigma$, and $V$ are rotation matrix, streching matrix, and rotation matrix respectively."
   ]
  },
  {
   "cell_type": "markdown",
   "metadata": {
    "slideshow": {
     "slide_type": "subslide"
    }
   },
   "source": [
    "## Matrix Transformation on Circle (Cont')\n",
    "\n",
    "As $U$, and $V$ are orthogonal matrixs (basis vectors in their own space), they have the property of unitary matrix. That is,\n",
    "$$\n",
    "    M^{-1} = M^{*}\n",
    "$$\n",
    "the inverse of a unitary matrix $M$ is the conjugatory transpose of $M$.\n",
    "\n",
    "Therefore, we can further reduce the equation to\n",
    "$$\n",
    "\\begin{align}\n",
    "    AV &= U\\Sigma \\\\\n",
    "    AVV^{*} &= U \\Sigma V^{*} \\\\\n",
    "    A &= U \\Sigma V^{*}\n",
    "\\end{align}\n",
    "$$"
   ]
  },
  {
   "cell_type": "markdown",
   "metadata": {
    "slideshow": {
     "slide_type": "slide"
    }
   },
   "source": [
    "## Singular Value Decomposition\n",
    "\n",
    "As the equation derived above, for any matrix $A$, we can represent it by three matrixs, $U$, $\\Sigma$, and $V^{*}$. And $A$ is just doing three operaiont in order: **ROTATION** -> **STRETECHING** -> **ROTATION**. \n",
    "\n",
    "$$\n",
    "    A_{mxn} = U_{mxn} \\Sigma_{nxn} V^{*}_{nxn}\n",
    "$$"
   ]
  },
  {
   "cell_type": "markdown",
   "metadata": {
    "slideshow": {
     "slide_type": "subslide"
    }
   },
   "source": [
    "## Singular Value Decomposition (Cont')\n",
    "\n",
    "Every matrix $A$ has a single value decomposition, and the following properties are satisfied:\n",
    "* singular value {$\\sigma_j$} are uniquely determined. And if $A$ is square {$\\sigma_j$} are distinct.\n",
    "* {$\\vec{u_j}$} and {$\\vec{v_j}$} are also unique up to a complex sign"
   ]
  },
  {
   "cell_type": "markdown",
   "metadata": {
    "slideshow": {
     "slide_type": "subslide"
    }
   },
   "source": [
    "## Singular Value Decomposition (Cont')\n",
    "\n",
    "**How to compute the SVD of a matrix?**\n",
    "Here the idea it to transform the problem to a problem of solving eigen value and eigen vector.\n",
    "\n",
    "$$\n",
    "\\begin{align}\n",
    "    A^TA &= (U \\Sigma V^*)^T (U \\Sigma V^*) \\\\\n",
    "        &= (V \\Sigma U^*) (U \\Sigma V^*) \\\\\n",
    "        &= V \\Sigma^2 V^*\n",
    "\\end{align}\n",
    "$$\n",
    "\n",
    "--- \n",
    "\n",
    "$$\n",
    "\\begin{align}\n",
    "    A^TAV &= V \\Sigma^2 V^* V \\\\\n",
    "        &= V \\Sigma^2\n",
    "\\end{align}\n",
    "$$\n",
    "\n",
    "---\n",
    "\n",
    "You can see that the final equation is actually a problem of solving the eigenvector and eigen value of a matrix. By solving the problem, you get the $V$ and $\\Sigma$.\n",
    "\n",
    "To get the value of $U$, you solve the same question for matrix $AA^T$."
   ]
  },
  {
   "cell_type": "markdown",
   "metadata": {
    "slideshow": {
     "slide_type": "slide"
    }
   },
   "source": [
    "## Principle Component Analysis\n",
    "\n",
    "For a data matrix, $X$, there are always two property inherently existing in the data. That is,\n",
    "1. Data Noise\n",
    "2. Data Redundancy\n",
    "\n",
    "PCA is used to remove the data redundancy in the data."
   ]
  },
  {
   "cell_type": "markdown",
   "metadata": {
    "slideshow": {
     "slide_type": "subslide"
    }
   },
   "source": [
    "## Principle Component Analysis (Cont')\n",
    "\n",
    "PCA has a big relationship with the **variance** and the **covariance** of the data matrix.\n",
    "\n",
    "- **Variance tells you the dispersion of each measurement in the data**\n",
    "- **Covariance tells you the dependency between measurements in the data**"
   ]
  },
  {
   "cell_type": "markdown",
   "metadata": {
    "slideshow": {
     "slide_type": "subslide"
    }
   },
   "source": [
    "## Principle Component Analysis (Cont')\n",
    "\n",
    "To get the **variance** and the **covariance** of the data matrix, compute the **$X^TX$**\n",
    "\n",
    "$$\n",
    "\\begin{align}\n",
    "    Covariance(X) &= X^TX \\\\\n",
    "        &= \\begin{bmatrix}\n",
    "            \\sigma_{x_1}^2 & \\sigma_{x_1x_2}^2 & ... & \\sigma_{x_1x_n}^2\\\\ \n",
    "            \\sigma_{x_2x_1}^2 & \\sigma_{x_2}^2 & ... & \\sigma_{x_2x_n}^2\\\\ \n",
    "            ... & ... & ... & ... \\\\ \n",
    "            \\sigma_{x_nx_1}^2 & ... & ... & \\sigma_{x_n}^2\n",
    "            \\end{bmatrix}\n",
    "            \\end{align}\n",
    "$$\n",
    "\n",
    "For values in the diagonal, they are the **variance** for each measurement/feature:\n",
    "- when the value is small, it means this measurement doesn't have much impact to the data\n",
    "- when the value is large, it means this measurement have great impact to the data\n",
    "\n",
    "For values in the off-diagonal, they are the **covariance** between pair of measurements/features:\n",
    "- when the value is small, it means the measurements are independent to each other\n",
    "- when the value is large, it means one measurement is dependent on the other (**REDUNDENCY**)\n",
    "![](images/svd/innerproduct.png)"
   ]
  },
  {
   "cell_type": "markdown",
   "metadata": {
    "slideshow": {
     "slide_type": "subslide"
    }
   },
   "source": [
    "## Principle Component Analysis (Cont')\n",
    "\n",
    "The ultimate goal of PCA is to remove the data redundency. Let's see how can we **transform $X$ to another space $Y$ so that the covariance matrix of $Y$ is diagonal**.\n",
    "> A diagonal covariance matrix indicates that each measurement are independent to other measurements (remove redundency)."
   ]
  },
  {
   "cell_type": "markdown",
   "metadata": {
    "slideshow": {
     "slide_type": "subslide"
    }
   },
   "source": [
    "## Principle Component Analysis (Cont')\n",
    "From the perspective of eigen decomposition\n",
    "$$\n",
    "    X^TX = S \\Lambda S^* \n",
    "$$\n",
    "As $X^TX$ is symmetric, $\\Lambda$ is a real positive diagonal matrix representing the eigenvalues, and $S$, $S^*$ is orthogonal matrix representing the eigenvectors\n",
    "\n",
    "Let's transform $X$ to $Y$ with $S$, and see the covariance matrix of $Y$\n",
    "$$\n",
    "\\begin{align}\n",
    "    Y &= XS \\\\\n",
    "    Cov(Y) = Y^TY &= (XS)^T(XS) \\\\\n",
    "                  &= (S^T X^TX S) \\\\\n",
    "                  &= S^T (S \\Lambda S^*) S \\\\\n",
    "                  &= \\Lambda\n",
    "\\end{align}  \n",
    "$$\n",
    "\n",
    "Here the covariance matrix of $Y$ is a diagonal matrix, which is what we want."
   ]
  },
  {
   "cell_type": "markdown",
   "metadata": {
    "slideshow": {
     "slide_type": "subslide"
    }
   },
   "source": [
    "## Principle Component Analysis (Cont')\n",
    "\n",
    "From the perspective of SVD\n",
    "$$\n",
    "\\begin{align}\n",
    "    X^TX &= (U \\Sigma V^*)^T(U \\Sigma V^*) \\\\\n",
    "         &= (V \\Sigma U^*)(U \\Sigma V^*) \\\\\n",
    "         &= V \\Sigma^2 V^*\n",
    "\\end{align}\n",
    "$$\n",
    "\n",
    "Let's transform $X$ to $Y$ with $V^T$, and see the covariance matrix of $Y$\n",
    "$$\n",
    "\\begin{align}\n",
    "    Y &= XV \\\\\n",
    "    Cov(Y) = Y^TY &= (XV)^T(XV) \\\\\n",
    "                  &= (V^T X^TX V) \\\\\n",
    "                  &= V^T (V \\Sigma^2 V^*) V \\\\\n",
    "                  &= \\Sigma^2\n",
    "\\end{align}  \n",
    "$$\n",
    "\n",
    "Here the covariance matrix of $Y$ is a diagonal matrix, which is what we want."
   ]
  },
  {
   "cell_type": "markdown",
   "metadata": {
    "slideshow": {
     "slide_type": "subslide"
    }
   },
   "source": [
    "## Principle Component Analysis (Cont')\n",
    "\n",
    "By now, we know how to transform $X$ to another space $Y$ with the principle axes($V$ and $S$) we found so that the data redundency in original data matrix $X$ is removed.\n",
    "\n",
    "If we also want to do dimension reduction, you just select the first-nth principle axes from $V$ and $S$ and do the transformation with $X$ so that the new space retain the variance as much as possible with the original space."
   ]
  },
  {
   "cell_type": "code",
   "execution_count": 4,
   "metadata": {
    "slideshow": {
     "slide_type": "subslide"
    }
   },
   "outputs": [],
   "source": [
    "from sklearn import datasets\n",
    "from sklearn.decomposition import PCA"
   ]
  },
  {
   "cell_type": "code",
   "execution_count": 5,
   "metadata": {
    "slideshow": {
     "slide_type": "subslide"
    }
   },
   "outputs": [],
   "source": [
    "# Experiment with iris dataset\n",
    "# ========================================================================\n",
    "# Trying to do dimension reduction on the dataset with PCA maually\n",
    "# and verified the solution with PCA algorithm implemented in scikit-learn\n",
    "\n",
    "iris = datasets.load_iris()"
   ]
  },
  {
   "cell_type": "code",
   "execution_count": 6,
   "metadata": {
    "slideshow": {
     "slide_type": "subslide"
    }
   },
   "outputs": [
    {
     "name": "stdout",
     "output_type": "stream",
     "text": [
      "X Shape: (150, 4)\n",
      "Y Shape: (150,)\n"
     ]
    }
   ],
   "source": [
    "X = iris.data\n",
    "Y = iris.target\n",
    "\n",
    "print(\"X Shape:\", X.shape)\n",
    "print(\"Y Shape:\", Y.shape)"
   ]
  },
  {
   "cell_type": "code",
   "execution_count": 7,
   "metadata": {
    "slideshow": {
     "slide_type": "subslide"
    }
   },
   "outputs": [
    {
     "name": "stdout",
     "output_type": "stream",
     "text": [
      "[[ 0.68112222 -0.04215111  1.26582     0.51282889]\n",
      " [-0.04215111  0.18871289 -0.32745867 -0.12082844]\n",
      " [ 1.26582    -0.32745867  3.09550267  1.286972  ]\n",
      " [ 0.51282889 -0.12082844  1.286972    0.57713289]]\n"
     ]
    }
   ],
   "source": [
    "# Copmute the covariance matrix of X\n",
    "mu = np.mean(X, axis=0)\n",
    "\n",
    "Cov_x = ((X-mu).T).dot(X-mu) / X.shape[0]\n",
    "\n",
    "print(Cov_x)"
   ]
  },
  {
   "cell_type": "code",
   "execution_count": 8,
   "metadata": {
    "slideshow": {
     "slide_type": "subslide"
    }
   },
   "outputs": [
    {
     "name": "stdout",
     "output_type": "stream",
     "text": [
      "SIGMA\n",
      "[4.20005343 0.24105294 0.0776881  0.02367619]\n",
      "\n",
      "Principle axes\n",
      "[[ 0.36138659 -0.65658877 -0.58202985  0.31548719]\n",
      " [-0.08452251 -0.73016143  0.59791083 -0.3197231 ]\n",
      " [ 0.85667061  0.17337266  0.07623608 -0.47983899]\n",
      " [ 0.3582892   0.07548102  0.54583143  0.75365743]]\n"
     ]
    }
   ],
   "source": [
    "# Perform eigen decomposition on Cov_x can find the principle axes\n",
    "from numpy.linalg import eig\n",
    "\n",
    "V_sigma_square, V = eig(Cov_x)\n",
    "\n",
    "print(\"SIGMA\")\n",
    "print(V_sigma_square)\n",
    "print()\n",
    "print(\"Principle axes\")\n",
    "print(V)"
   ]
  },
  {
   "cell_type": "code",
   "execution_count": 9,
   "metadata": {
    "slideshow": {
     "slide_type": "subslide"
    }
   },
   "outputs": [],
   "source": [
    "# Transform X to X_new with V\n",
    "X_new = X.dot(V)"
   ]
  },
  {
   "cell_type": "code",
   "execution_count": 10,
   "metadata": {
    "slideshow": {
     "slide_type": "subslide"
    }
   },
   "outputs": [
    {
     "name": "stdout",
     "output_type": "stream",
     "text": [
      "[[ 4.20005343e+00  7.57351162e-17 -8.18284893e-16  8.65955946e-16]\n",
      " [ 7.57351162e-17  2.41052943e-01  1.80507950e-16  3.00246911e-16]\n",
      " [-8.18284893e-16  1.80507950e-16  7.76881034e-02  5.16317604e-17]\n",
      " [ 8.65955946e-16  3.00246911e-16  5.16317604e-17  2.36761924e-02]]\n"
     ]
    }
   ],
   "source": [
    "# Copmute the covariance matrix of X\n",
    "mu_new = np.mean(X_new, axis=0)\n",
    "\n",
    "Cov_x_new = ((X_new-mu_new).T).dot(X_new-mu_new) / X_new.shape[0]\n",
    "\n",
    "# The covariance matrix of X_new is approximately diagonal matrix\n",
    "print(Cov_x_new)"
   ]
  },
  {
   "cell_type": "markdown",
   "metadata": {
    "slideshow": {
     "slide_type": "subslide"
    }
   },
   "source": [
    "## EigenFace\n",
    "\n",
    "Given a set of images, how can you extract useful information from these images so that we can recognize who he/she is based on the information you extracted."
   ]
  },
  {
   "cell_type": "code",
   "execution_count": 11,
   "metadata": {
    "slideshow": {
     "slide_type": "subslide"
    }
   },
   "outputs": [
    {
     "name": "stdout",
     "output_type": "stream",
     "text": [
      "Data's shape (4, 25, 25)\n"
     ]
    },
    {
     "data": {
      "image/png": "[encoded data removed]",
      "text/plain": [
       "<Figure size 1152x288 with 4 Axes>"
      ]
     },
     "metadata": {
      "needs_background": "light"
     },
     "output_type": "display_data"
    }
   ],
   "source": [
    "import os\n",
    "import cv2\n",
    "\n",
    "# Load face image\n",
    "images = []\n",
    "\n",
    "for file in [os.path.join(\"dataset/eigenface\", f) for f in os.listdir(\"dataset/eigenface/\")]:\n",
    "    image = cv2.imread(file)\n",
    "    image = cv2.resize(image, (25, 25))\n",
    "    gray = cv2.cvtColor(image, cv2.COLOR_BGR2GRAY)\n",
    "    \n",
    "    images.append(gray)\n",
    "    \n",
    "images = np.array(images)\n",
    "print(\"Data's shape\", images.shape)\n",
    "\n",
    "# Show images\n",
    "fig, axes = plt.subplots(1, 4, figsize=(16, 4))\n",
    "\n",
    "for idx, image in enumerate(images):\n",
    "    axes[idx].imshow(image, \"gray\")"
   ]
  },
  {
   "cell_type": "markdown",
   "metadata": {
    "slideshow": {
     "slide_type": "subslide"
    }
   },
   "source": [
    "## EigenFace (Cont')\n",
    "\n",
    "You can see that for each image there are 50x50 pixels(features). There must be a great amount of redundancy and noise inside the image. How can remove the noise and redundancy in data?\n",
    "\n",
    "**Let's use PCA to transform the data to another space, and reduce the dimension(the amount of feature) of the data**"
   ]
  },
  {
   "cell_type": "code",
   "execution_count": 12,
   "metadata": {
    "slideshow": {
     "slide_type": "subslide"
    }
   },
   "outputs": [],
   "source": [
    "import numpy as np\n",
    "from numpy.linalg import svd\n",
    "\n",
    "# Flatten the image\n",
    "X = images.reshape((images.shape[0], -1))\n",
    "\n",
    "# Compute the covariance matrix of the image set\n",
    "Cov_x = (X.T).dot(X)\n",
    "\n",
    "# Perform eigen decomposition to find principle axes\n",
    "U, Sigma, V = svd(Cov_x)"
   ]
  },
  {
   "cell_type": "code",
   "execution_count": 13,
   "metadata": {
    "slideshow": {
     "slide_type": "subslide"
    }
   },
   "outputs": [
    {
     "data": {
      "text/plain": [
       "[<matplotlib.lines.Line2D at 0x7fe1b1a45ba8>]"
      ]
     },
     "execution_count": 13,
     "metadata": {},
     "output_type": "execute_result"
    },
    {
     "data": {
      "image/png": "[encoded data removed]",
      "text/plain": [
       "<Figure size 432x288 with 1 Axes>"
      ]
     },
     "metadata": {
      "needs_background": "light"
     },
     "output_type": "display_data"
    }
   ],
   "source": [
    "# Plot the cumulative diagram of Sigam to determine the dimensions of the new space\n",
    "cumulative = []\n",
    "cumulative_val = 0\n",
    "\n",
    "for value in Sigma:\n",
    "    cumulative_val += value\n",
    "    cumulative.append(cumulative_val)\n",
    "    \n",
    "plt.plot(np.arange(len(cumulative)), cumulative)"
   ]
  },
  {
   "cell_type": "markdown",
   "metadata": {
    "slideshow": {
     "slide_type": "subslide"
    }
   },
   "source": [
    "## EigenFace (Cont')\n",
    "\n",
    "Given the graph above, I think it is reasonable to choose 400 or 500 dimensions for the new space."
   ]
  },
  {
   "cell_type": "code",
   "execution_count": 14,
   "metadata": {
    "slideshow": {
     "slide_type": "subslide"
    }
   },
   "outputs": [
    {
     "name": "stdout",
     "output_type": "stream",
     "text": [
      "(4, 625)\n",
      "(4, 400)\n"
     ]
    }
   ],
   "source": [
    "X_new = X.dot(V[:, :400])\n",
    "\n",
    "print(X.shape)\n",
    "print(X_new.shape)"
   ]
  },
  {
   "cell_type": "markdown",
   "metadata": {
    "slideshow": {
     "slide_type": "subslide"
    }
   },
   "source": [
    "## EigenFace (Cont')\n",
    "\n",
    "Then we can visualize the data distribution of each image on the new space. Similiar images should have similiar patterns, and different images should have different patterns."
   ]
  },
  {
   "cell_type": "code",
   "execution_count": 15,
   "metadata": {
    "slideshow": {
     "slide_type": "subslide"
    }
   },
   "outputs": [
    {
     "data": {
      "image/png": "[encoded data removed]",
      "text/plain": [
       "<Figure size 1152x288 with 4 Axes>"
      ]
     },
     "metadata": {
      "needs_background": "light"
     },
     "output_type": "display_data"
    }
   ],
   "source": [
    "fig, axes = plt.subplots(1, 4, figsize=(16, 4))\n",
    "\n",
    "for idx, features in enumerate(X_new):\n",
    "    axes[idx].bar(np.arange(len(features)), features)"
   ]
  }
 ],
 "metadata": {
  "celltoolbar": "Slideshow",
  "kernelspec": {
   "display_name": "Python 3",
   "language": "python",
   "name": "python3"
  },
  "language_info": {
   "codemirror_mode": {
    "name": "ipython",
    "version": 3
   },
   "file_extension": ".py",
   "mimetype": "text/x-python",
   "name": "python",
   "nbconvert_exporter": "python",
   "pygments_lexer": "ipython3",
   "version": "3.7.1"
  }
 },
 "nbformat": 4,
 "nbformat_minor": 2
}
